{
  "nbformat": 4,
  "nbformat_minor": 0,
  "metadata": {
    "colab": {
      "provenance": [],
      "authorship_tag": "ABX9TyOzMT6z8yN5e9eDbM7jYL/C",
      "include_colab_link": true
    },
    "kernelspec": {
      "name": "python3",
      "display_name": "Python 3"
    },
    "language_info": {
      "name": "python"
    }
  },
  "cells": [
    {
      "cell_type": "markdown",
      "metadata": {
        "id": "view-in-github",
        "colab_type": "text"
      },
      "source": [
        "<a href=\"https://colab.research.google.com/github/MeetSolanki100/SynapseTasks/blob/main/task1.ipynb\" target=\"_parent\"><img src=\"https://colab.research.google.com/assets/colab-badge.svg\" alt=\"Open In Colab\"/></a>"
      ]
    },
    {
      "cell_type": "markdown",
      "source": [
        "## **1.1**"
      ],
      "metadata": {
        "id": "XO7vlcTz-vLL"
      }
    },
    {
      "cell_type": "code",
      "execution_count": null,
      "metadata": {
        "colab": {
          "base_uri": "https://localhost:8080/"
        },
        "id": "fVVapssL-YIL",
        "outputId": "5b608b93-b651-44df-fb21-b0fc0483978e"
      },
      "outputs": [
        {
          "output_type": "stream",
          "name": "stdout",
          "text": [
            "Phase 5 kickoff list:\n",
            "1. Hulk\n",
            "2. Spiderman\n",
            "3. Moon Knight\n",
            "4. Doctor Strange\n",
            "5. Captain America\n"
          ]
        }
      ],
      "source": [
        "\n",
        "jumbled_superheroes = ['DOCTOR_STRAngE','sPidERmaN','MoON_KnigHT','caPTAIN_aMERIca','hULK']\n",
        "\n",
        "indices = []\n",
        "\n",
        "decoded_names = []\n",
        "\n",
        "for index, name in enumerate(jumbled_superheroes):\n",
        "    indices.append(index)\n",
        "    decoded_names.append(name.lower().replace(\"_\", \" \"))\n",
        "\n",
        "calculate_length = lambda x: len(x)\n",
        "\n",
        "name_lengths = list(map(calculate_length, decoded_names))\n",
        "\n",
        "indices.sort(key=lambda x: name_lengths[x])\n",
        "\n",
        "sorted_superheroes = [decoded_names[i].title() for i in indices]\n",
        "\n",
        "print(\"Phase 5 kickoff list:\")\n",
        "\n",
        "for i, superhero in enumerate(sorted_superheroes):\n",
        "    print(f\"{i + 1}. {superhero}\")\n"
      ]
    },
    {
      "cell_type": "markdown",
      "source": [
        "## **1.2**"
      ],
      "metadata": {
        "id": "eZQ7pW0B_fde"
      }
    },
    {
      "cell_type": "code",
      "source": [
        "lst = ['0001', '0011', '0101', '1011','1101','1111']\n",
        "\n",
        "new_lst = [int(binary, 2) for binary in lst]\n",
        "\n",
        "new_lst.sort()\n",
        "print(new_lst)\n",
        "\n",
        "while len(new_lst) > 2:\n",
        "    smallest1 = new_lst.pop(0)\n",
        "    smallest2 = new_lst.pop(0)\n",
        "    new_number = smallest1 + smallest2\n",
        "    new_lst.append(new_number)\n",
        "    new_lst.sort()\n",
        "\n",
        "result = new_lst\n",
        "\n",
        "print(result)\n"
      ],
      "metadata": {
        "colab": {
          "base_uri": "https://localhost:8080/"
        },
        "id": "Zr6FfQWp-zmC",
        "outputId": "b8a74f31-cfa7-476c-a26c-8e8a0a22ca6e"
      },
      "execution_count": null,
      "outputs": [
        {
          "output_type": "stream",
          "name": "stdout",
          "text": [
            "[1, 3, 5, 11, 13, 15]\n",
            "[20, 28]\n"
          ]
        }
      ]
    },
    {
      "cell_type": "markdown",
      "source": [
        "## **1.3**"
      ],
      "metadata": {
        "id": "hWqWboQ4peZV"
      }
    },
    {
      "cell_type": "code",
      "source": [
        "def explode_chains(encoded_lists):\n",
        "    def remove_consecutive_sequences(chain):\n",
        "        new_chain = []\n",
        "        i = 0\n",
        "        while i < len(chain):\n",
        "            if i <= len(chain) - 3 and chain[i] +2 == chain[i+1] +1 == chain[i+2]:\n",
        "                i += 3\n",
        "            else:\n",
        "                new_chain.append(chain[i])\n",
        "                i += 1\n",
        "        return new_chain\n",
        "\n",
        "    exploded_lists = []\n",
        "    for encoded_chain in encoded_lists:\n",
        "        while True:\n",
        "            new_chain = remove_consecutive_sequences(encoded_chain)\n",
        "            if new_chain == encoded_chain:\n",
        "                exploded_lists.append(new_chain)\n",
        "                break\n",
        "            encoded_chain = new_chain\n",
        "\n",
        "    return exploded_lists\n",
        "\n",
        "encoded_lists = [\n",
        "    [1, 2, 3, 4, 6],\n",
        "    [5, 7, 8, 9, 15],\n",
        "    [12, 14, 16, 18],\n",
        "    [10, 11, 12, 13, 16, 17, 18, 20]\n",
        "]\n",
        "result = explode_chains(encoded_lists)\n",
        "print(result)"
      ],
      "metadata": {
        "id": "1Dm1ZEGkJ1Jm",
        "colab": {
          "base_uri": "https://localhost:8080/"
        },
        "outputId": "76f6f3a3-8dfe-4c24-d1ac-1a3514b4b631"
      },
      "execution_count": 9,
      "outputs": [
        {
          "output_type": "stream",
          "name": "stdout",
          "text": [
            "[[4, 6], [5, 15], [12, 14, 16, 18], [13, 20]]\n"
          ]
        }
      ]
    }
  ]
}